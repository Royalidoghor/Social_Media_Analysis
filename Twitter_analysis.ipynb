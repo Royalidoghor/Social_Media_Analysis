{
 "cells": [
  {
   "cell_type": "code",
   "execution_count": 1,
   "id": "b5365098",
   "metadata": {},
   "outputs": [],
   "source": [
    "import pandas as pd\n",
    "import seaborn as sns\n",
    "import matplotlib.pyplot as plt\n",
    "\n",
    "%matplotlib inline"
   ]
  },
  {
   "cell_type": "code",
   "execution_count": 2,
   "id": "25003e6f",
   "metadata": {},
   "outputs": [
    {
     "name": "stderr",
     "output_type": "stream",
     "text": [
      "C:\\Users\\I. OGHENEMARHO\\AppData\\Local\\Temp\\ipykernel_8484\\3232179781.py:1: DtypeWarning: Columns (32,33,41,53,61,78,146) have mixed types. Specify dtype option on import or set low_memory=False.\n",
      "  twitter_df=pd.read_csv('Post Performance (Stanbic IBTC) January 1, 2013 - July 13, 2023_Twitter.csv')\n"
     ]
    }
   ],
   "source": [
    "twitter_df=pd.read_csv('Post Performance (Stanbic IBTC) January 1, 2013 - July 13, 2023_Twitter.csv')"
   ]
  },
  {
   "cell_type": "code",
   "execution_count": 3,
   "id": "5491182d",
   "metadata": {},
   "outputs": [
    {
     "data": {
      "text/plain": [
       "(8529, 147)"
      ]
     },
     "execution_count": 3,
     "metadata": {},
     "output_type": "execute_result"
    }
   ],
   "source": [
    "twitter_df.shape"
   ]
  },
  {
   "cell_type": "code",
   "execution_count": 4,
   "id": "b8de0c44",
   "metadata": {},
   "outputs": [
    {
     "name": "stdout",
     "output_type": "stream",
     "text": [
      "There are no duplicates in the Dataframe\n"
     ]
    }
   ],
   "source": [
    "#check duplicates\n",
    "if twitter_df.duplicated().any():\n",
    "    print('There are duplicates in dataframe.')\n",
    "else:\n",
    "    print('There are no duplicates in the Dataframe')\n",
    "    "
   ]
  },
  {
   "cell_type": "code",
   "execution_count": 6,
   "id": "2ae37bf8",
   "metadata": {},
   "outputs": [
    {
     "data": {
      "text/plain": [
       "Date                         0.000000\n",
       "Post ID                      0.000000\n",
       "Network                      0.000000\n",
       "Post Type                    0.000000\n",
       "Content Type                 0.000000\n",
       "                              ...    \n",
       "Card Impressions           100.000000\n",
       "Card Teaser Impressions    100.000000\n",
       "Card Teaser Clicks         100.000000\n",
       "Poll Votes                 100.000000\n",
       "Tags                        83.585414\n",
       "Length: 147, dtype: float64"
      ]
     },
     "execution_count": 6,
     "metadata": {},
     "output_type": "execute_result"
    }
   ],
   "source": [
    "#find missing column values\n",
    "twitter_df.isnull().sum()/len(twitter_df)*100\n"
   ]
  },
  {
   "cell_type": "code",
   "execution_count": 7,
   "id": "9fda4eb8",
   "metadata": {},
   "outputs": [],
   "source": [
    "threshold =0.8 * len(twitter_df)\n",
    "empty_column=twitter_df.columns[twitter_df.isnull().sum()>threshold]\n",
    "twitter_df.drop(empty_column,axis=1,inplace=True)"
   ]
  },
  {
   "cell_type": "code",
   "execution_count": 8,
   "id": "f81f3d66",
   "metadata": {},
   "outputs": [
    {
     "data": {
      "text/plain": [
       "(8529, 34)"
      ]
     },
     "execution_count": 8,
     "metadata": {},
     "output_type": "execute_result"
    }
   ],
   "source": [
    "twitter_df.shape"
   ]
  },
  {
   "cell_type": "code",
   "execution_count": 10,
   "id": "6be09b84",
   "metadata": {},
   "outputs": [
    {
     "data": {
      "text/plain": [
       "Index(['Date', 'Post ID', 'Network', 'Post Type', 'Content Type', 'Profile',\n",
       "       'Sent by', 'Link', 'Post', 'Linked Content', 'Impressions',\n",
       "       'Organic Impressions', 'Potential Reach',\n",
       "       'Engagement Rate (per Impression)', 'Engagements', 'Reactions', 'Likes',\n",
       "       'Comments', 'Shares', 'Click-Through Rate', 'Post Link Clicks',\n",
       "       'Other Post Clicks', 'Post Clicks (All)', 'Post Media Clicks',\n",
       "       'Post Hashtag Clicks', 'Post Detail Expand Clicks', 'Profile Clicks',\n",
       "       'Other Engagements', 'App Engagements', 'App Install Attempts',\n",
       "       'App Opens', 'Follows from Post', 'Unfollows from Post', 'Media Views'],\n",
       "      dtype='object')"
      ]
     },
     "execution_count": 10,
     "metadata": {},
     "output_type": "execute_result"
    }
   ],
   "source": [
    "twitter_df.columns"
   ]
  },
  {
   "cell_type": "code",
   "execution_count": 11,
   "id": "e8010839",
   "metadata": {},
   "outputs": [
    {
     "data": {
      "text/plain": [
       "Date                                 0.000000\n",
       "Post ID                              0.000000\n",
       "Network                              0.000000\n",
       "Post Type                            0.000000\n",
       "Content Type                         0.000000\n",
       "Profile                              0.000000\n",
       "Sent by                              0.000000\n",
       "Link                                 0.562786\n",
       "Post                                 0.000000\n",
       "Linked Content                      41.634424\n",
       "Impressions                          8.054872\n",
       "Organic Impressions                  8.054872\n",
       "Potential Reach                      0.937976\n",
       "Engagement Rate (per Impression)     8.066596\n",
       "Engagements                          8.054872\n",
       "Reactions                            8.054872\n",
       "Likes                                8.054872\n",
       "Comments                             8.054872\n",
       "Shares                               8.054872\n",
       "Click-Through Rate                  57.638645\n",
       "Post Link Clicks                    57.638645\n",
       "Other Post Clicks                    8.054872\n",
       "Post Clicks (All)                    8.054872\n",
       "Post Media Clicks                   21.526556\n",
       "Post Hashtag Clicks                 30.859421\n",
       "Post Detail Expand Clicks            8.054872\n",
       "Profile Clicks                       8.054872\n",
       "Other Engagements                    8.054872\n",
       "App Engagements                      8.054872\n",
       "App Install Attempts                 8.054872\n",
       "App Opens                            8.054872\n",
       "Follows from Post                    8.054872\n",
       "Unfollows from Post                  8.054872\n",
       "Media Views                         21.467933\n",
       "dtype: float64"
      ]
     },
     "execution_count": 11,
     "metadata": {},
     "output_type": "execute_result"
    }
   ],
   "source": [
    "#find missing column values\n",
    "twitter_df.isnull().sum()/len(twitter_df)*100\n"
   ]
  },
  {
   "cell_type": "code",
   "execution_count": 15,
   "id": "09cd14d8",
   "metadata": {},
   "outputs": [],
   "source": [
    "#create a new set of the data we need for the analysis\n",
    "\n",
    "column=['Date', 'Post ID', 'Network', 'Post Type', 'Content Type', 'Profile',\n",
    "       'Sent by', 'Link', 'Post', 'Impressions', 'Organic Impressions',\n",
    "       'Potential Reach', 'Profile Clicks', 'Engagement Rate (per Impression)',\n",
    "       'Shares', 'Engagements', 'Reactions', 'Likes',\n",
    "       'Comments']\n",
    "\n",
    "twt_new= twitter_df[column].copy()"
   ]
  },
  {
   "cell_type": "code",
   "execution_count": 16,
   "id": "16fd4747",
   "metadata": {},
   "outputs": [
    {
     "name": "stdout",
     "output_type": "stream",
     "text": [
      "<class 'pandas.core.frame.DataFrame'>\n",
      "RangeIndex: 8529 entries, 0 to 8528\n",
      "Data columns (total 19 columns):\n",
      " #   Column                            Non-Null Count  Dtype  \n",
      "---  ------                            --------------  -----  \n",
      " 0   Date                              8529 non-null   object \n",
      " 1   Post ID                           8529 non-null   int64  \n",
      " 2   Network                           8529 non-null   object \n",
      " 3   Post Type                         8529 non-null   object \n",
      " 4   Content Type                      8529 non-null   object \n",
      " 5   Profile                           8529 non-null   object \n",
      " 6   Sent by                           8529 non-null   object \n",
      " 7   Link                              8481 non-null   object \n",
      " 8   Post                              8529 non-null   object \n",
      " 9   Impressions                       7842 non-null   object \n",
      " 10  Organic Impressions               7842 non-null   object \n",
      " 11  Potential Reach                   8449 non-null   object \n",
      " 12  Profile Clicks                    7842 non-null   float64\n",
      " 13  Engagement Rate (per Impression)  7841 non-null   object \n",
      " 14  Shares                            7842 non-null   object \n",
      " 15  Engagements                       7842 non-null   object \n",
      " 16  Reactions                         7842 non-null   object \n",
      " 17  Likes                             7842 non-null   object \n",
      " 18  Comments                          7842 non-null   float64\n",
      "dtypes: float64(2), int64(1), object(16)\n",
      "memory usage: 1.2+ MB\n"
     ]
    }
   ],
   "source": [
    "twt_new.info()"
   ]
  },
  {
   "cell_type": "code",
   "execution_count": 17,
   "id": "cb6a92d0",
   "metadata": {},
   "outputs": [
    {
     "name": "stdout",
     "output_type": "stream",
     "text": [
      "Column: Date\n",
      "<class 'str'>    8529\n",
      "Name: Date, dtype: int64\n",
      "\n",
      "Column: Post ID\n",
      "<class 'int'>    8529\n",
      "Name: Post ID, dtype: int64\n",
      "\n",
      "Column: Network\n",
      "<class 'str'>    8529\n",
      "Name: Network, dtype: int64\n",
      "\n",
      "Column: Post Type\n",
      "<class 'str'>    8529\n",
      "Name: Post Type, dtype: int64\n",
      "\n",
      "Column: Content Type\n",
      "<class 'str'>    8529\n",
      "Name: Content Type, dtype: int64\n",
      "\n",
      "Column: Profile\n",
      "<class 'str'>    8529\n",
      "Name: Profile, dtype: int64\n",
      "\n",
      "Column: Sent by\n",
      "<class 'str'>    8529\n",
      "Name: Sent by, dtype: int64\n",
      "\n",
      "Column: Link\n",
      "<class 'str'>      8481\n",
      "<class 'float'>      48\n",
      "Name: Link, dtype: int64\n",
      "\n",
      "Column: Post\n",
      "<class 'str'>    8529\n",
      "Name: Post, dtype: int64\n",
      "\n",
      "Column: Impressions\n",
      "<class 'str'>      7842\n",
      "<class 'float'>     687\n",
      "Name: Impressions, dtype: int64\n",
      "\n",
      "Column: Organic Impressions\n",
      "<class 'str'>      7842\n",
      "<class 'float'>     687\n",
      "Name: Organic Impressions, dtype: int64\n",
      "\n",
      "Column: Potential Reach\n",
      "<class 'str'>      8449\n",
      "<class 'float'>      80\n",
      "Name: Potential Reach, dtype: int64\n",
      "\n",
      "Column: Profile Clicks\n",
      "<class 'float'>    8529\n",
      "Name: Profile Clicks, dtype: int64\n",
      "\n",
      "Column: Engagement Rate (per Impression)\n",
      "<class 'str'>      7841\n",
      "<class 'float'>     688\n",
      "Name: Engagement Rate (per Impression), dtype: int64\n",
      "\n",
      "Column: Shares\n",
      "<class 'float'>    4906\n",
      "<class 'str'>      3623\n",
      "Name: Shares, dtype: int64\n",
      "\n",
      "Column: Engagements\n",
      "<class 'str'>      7842\n",
      "<class 'float'>     687\n",
      "Name: Engagements, dtype: int64\n",
      "\n",
      "Column: Reactions\n",
      "<class 'str'>      7620\n",
      "<class 'float'>     909\n",
      "Name: Reactions, dtype: int64\n",
      "\n",
      "Column: Likes\n",
      "<class 'str'>      7620\n",
      "<class 'float'>     909\n",
      "Name: Likes, dtype: int64\n",
      "\n",
      "Column: Comments\n",
      "<class 'float'>    8529\n",
      "Name: Comments, dtype: int64\n",
      "\n"
     ]
    }
   ],
   "source": [
    "# Create an empty dictionary to store the type value counts for each column\n",
    "type_counts = {}\n",
    "\n",
    "# Iterate through each column in the DataFrame\n",
    "for column in twt_new.columns:\n",
    "    # Apply the 'type' function to each element in the column and get the value counts\n",
    "    column_type_counts = twt_new[column].apply(type).value_counts()\n",
    "    \n",
    "    # Store the result in the dictionary with the column name as the key\n",
    "    type_counts[column] = column_type_counts\n",
    "\n",
    "# Print the type value counts for each column\n",
    "for column, counts in type_counts.items():\n",
    "    print(f\"Column: {column}\")\n",
    "    print(counts)\n",
    "    print()"
   ]
  },
  {
   "cell_type": "code",
   "execution_count": 18,
   "id": "16e795f2",
   "metadata": {},
   "outputs": [],
   "source": [
    "def clean_and_convert_to_float(x):\n",
    "    # If the value is a string, clean it and try to convert it to float\n",
    "    if isinstance(x, str):\n",
    "        # Remove single quotes and commas\n",
    "        x = x.replace(\"'\", '').replace(',', '')\n",
    "        \n",
    "        # Remove non-alphanumeric characters and spaces using a Pandas Series method\n",
    "        x = pd.Series(x).str.replace(r'[^A-Za-z0-9\\s.]+', '', regex=True).iloc[0]\n",
    "        \n",
    "        # Try to convert to float, and handle potential exceptions\n",
    "        try:\n",
    "            return float(x)\n",
    "        except ValueError:\n",
    "            return None  # or any other default value\n",
    "    return x"
   ]
  },
  {
   "cell_type": "code",
   "execution_count": 19,
   "id": "f4452411",
   "metadata": {},
   "outputs": [],
   "source": [
    "column_to_convert=['Impressions', 'Organic Impressions',\n",
    "       'Potential Reach', 'Engagement Rate (per Impression)',\n",
    "       'Shares', 'Engagements', 'Reactions', 'Likes',\n",
    "       'Comments']\n"
   ]
  },
  {
   "cell_type": "code",
   "execution_count": 20,
   "id": "496d5a1e",
   "metadata": {},
   "outputs": [],
   "source": [
    "twt_new[column_to_convert] = twt_new[column_to_convert].applymap(clean_and_convert_to_float)"
   ]
  },
  {
   "cell_type": "code",
   "execution_count": 21,
   "id": "5bcc31b7",
   "metadata": {},
   "outputs": [],
   "source": [
    "na_column=['Impressions', 'Organic Impressions',\n",
    "       'Potential Reach', 'Engagement Rate (per Impression)',\n",
    "       'Shares', 'Engagements', 'Reactions', 'Likes',\n",
    "       'Comments']\n",
    "\n",
    "column_mean=twt_new[na_column].mean()\n",
    "\n",
    "twt_new[na_column]=twt_new[na_column].fillna(column_mean)"
   ]
  },
  {
   "cell_type": "code",
   "execution_count": 22,
   "id": "517f9947",
   "metadata": {},
   "outputs": [],
   "source": [
    "twt_new['Date'] = pd.to_datetime(twt_new['Date'])"
   ]
  },
  {
   "cell_type": "code",
   "execution_count": 23,
   "id": "38ab3d6e",
   "metadata": {},
   "outputs": [],
   "source": [
    "twt_new['Hour']=twt_new['Date'].apply(lambda time: time.hour)\n",
    "twt_new['Month']=twt_new['Date'].apply(lambda time: time.month) #month the post\n",
    "twt_new['Day of week']=twt_new['Date'].apply(lambda time: time.dayofweek)#Day of week the post"
   ]
  },
  {
   "cell_type": "code",
   "execution_count": 24,
   "id": "bc9723c1",
   "metadata": {},
   "outputs": [],
   "source": [
    "datemap = {0:'Mon', 1:'Tue',2:'Wed',3:'Thu',4:'Fri',5:'Sat',6:'Sun'}\n",
    "twt_new['Day of week'] = twt_new['Day of week'].map(datemap)"
   ]
  },
  {
   "cell_type": "code",
   "execution_count": 25,
   "id": "935b1b7b",
   "metadata": {},
   "outputs": [
    {
     "data": {
      "text/plain": [
       "array(['Photo', 'Text', 'Video', 'Link'], dtype=object)"
      ]
     },
     "execution_count": 25,
     "metadata": {},
     "output_type": "execute_result"
    }
   ],
   "source": [
    "twt_new['Content Type'].unique()"
   ]
  },
  {
   "cell_type": "code",
   "execution_count": 26,
   "id": "f54424df",
   "metadata": {},
   "outputs": [
    {
     "data": {
      "text/plain": [
       "Photo    6213\n",
       "Text     1018\n",
       "Video     883\n",
       "Link      415\n",
       "Name: Content Type, dtype: int64"
      ]
     },
     "execution_count": 26,
     "metadata": {},
     "output_type": "execute_result"
    }
   ],
   "source": [
    "twt_new['Content Type'].value_counts()"
   ]
  },
  {
   "cell_type": "code",
   "execution_count": 31,
   "id": "8d1d3338",
   "metadata": {},
   "outputs": [],
   "source": [
    "twitter_engagement_summary = (twt_new.groupby('Content Type').agg({'Impressions':'mean', 'Organic Impressions':'mean',\n",
    "       'Potential Reach':'mean', 'Engagement Rate (per Impression)':'mean',\n",
    "       'Shares':'mean', 'Engagements':'mean', 'Reactions':'mean', 'Likes':'mean',\n",
    "       'Comments':'mean'}).sort_values(by ='Engagements', ascending = False))\n",
    "\n",
    "twitter_engagement_summary.columns = [['Avg Impressions', 'Avg Organic Impressions',\n",
    "       'Avg Potential Reach', 'Avg Engagement Rate (per Impression)',\n",
    "       'Avg Shares', 'Avg Engagements', 'Avg Reactions', 'Avg Likes',\n",
    "       'Avg Comments']]\n",
    "\n"
   ]
  },
  {
   "cell_type": "code",
   "execution_count": 32,
   "id": "d66a93a3",
   "metadata": {},
   "outputs": [
    {
     "data": {
      "text/html": [
       "<div>\n",
       "<style scoped>\n",
       "    .dataframe tbody tr th:only-of-type {\n",
       "        vertical-align: middle;\n",
       "    }\n",
       "\n",
       "    .dataframe tbody tr th {\n",
       "        vertical-align: top;\n",
       "    }\n",
       "\n",
       "    .dataframe thead tr th {\n",
       "        text-align: left;\n",
       "    }\n",
       "\n",
       "    .dataframe thead tr:last-of-type th {\n",
       "        text-align: right;\n",
       "    }\n",
       "</style>\n",
       "<table border=\"1\" class=\"dataframe\">\n",
       "  <thead>\n",
       "    <tr>\n",
       "      <th></th>\n",
       "      <th>Avg Impressions</th>\n",
       "      <th>Avg Organic Impressions</th>\n",
       "      <th>Avg Potential Reach</th>\n",
       "      <th>Avg Engagement Rate (per Impression)</th>\n",
       "      <th>Avg Shares</th>\n",
       "      <th>Avg Engagements</th>\n",
       "      <th>Avg Reactions</th>\n",
       "      <th>Avg Likes</th>\n",
       "      <th>Avg Comments</th>\n",
       "    </tr>\n",
       "    <tr>\n",
       "      <th>Content Type</th>\n",
       "      <th></th>\n",
       "      <th></th>\n",
       "      <th></th>\n",
       "      <th></th>\n",
       "      <th></th>\n",
       "      <th></th>\n",
       "      <th></th>\n",
       "      <th></th>\n",
       "      <th></th>\n",
       "    </tr>\n",
       "  </thead>\n",
       "  <tbody>\n",
       "    <tr>\n",
       "      <th>Photo</th>\n",
       "      <td>3364.311023</td>\n",
       "      <td>3364.311023</td>\n",
       "      <td>285369.864631</td>\n",
       "      <td>2.978471</td>\n",
       "      <td>8.696456</td>\n",
       "      <td>118.431425</td>\n",
       "      <td>21.512279</td>\n",
       "      <td>21.512279</td>\n",
       "      <td>6.640459</td>\n",
       "    </tr>\n",
       "    <tr>\n",
       "      <th>Video</th>\n",
       "      <td>2997.285725</td>\n",
       "      <td>2997.285725</td>\n",
       "      <td>322757.402493</td>\n",
       "      <td>3.632602</td>\n",
       "      <td>8.572269</td>\n",
       "      <td>108.868309</td>\n",
       "      <td>27.839694</td>\n",
       "      <td>27.839694</td>\n",
       "      <td>6.557959</td>\n",
       "    </tr>\n",
       "    <tr>\n",
       "      <th>Text</th>\n",
       "      <td>2691.041664</td>\n",
       "      <td>2691.041664</td>\n",
       "      <td>232705.363087</td>\n",
       "      <td>2.110557</td>\n",
       "      <td>6.143128</td>\n",
       "      <td>78.420053</td>\n",
       "      <td>9.887290</td>\n",
       "      <td>9.887290</td>\n",
       "      <td>5.071979</td>\n",
       "    </tr>\n",
       "    <tr>\n",
       "      <th>Link</th>\n",
       "      <td>2187.165417</td>\n",
       "      <td>2187.165417</td>\n",
       "      <td>237919.621820</td>\n",
       "      <td>2.310862</td>\n",
       "      <td>7.433610</td>\n",
       "      <td>65.161119</td>\n",
       "      <td>9.804506</td>\n",
       "      <td>9.804506</td>\n",
       "      <td>2.535344</td>\n",
       "    </tr>\n",
       "  </tbody>\n",
       "</table>\n",
       "</div>"
      ],
      "text/plain": [
       "             Avg Impressions Avg Organic Impressions Avg Potential Reach  \\\n",
       "Content Type                                                               \n",
       "Photo            3364.311023             3364.311023       285369.864631   \n",
       "Video            2997.285725             2997.285725       322757.402493   \n",
       "Text             2691.041664             2691.041664       232705.363087   \n",
       "Link             2187.165417             2187.165417       237919.621820   \n",
       "\n",
       "             Avg Engagement Rate (per Impression) Avg Shares Avg Engagements  \\\n",
       "Content Type                                                                   \n",
       "Photo                                    2.978471   8.696456      118.431425   \n",
       "Video                                    3.632602   8.572269      108.868309   \n",
       "Text                                     2.110557   6.143128       78.420053   \n",
       "Link                                     2.310862   7.433610       65.161119   \n",
       "\n",
       "             Avg Reactions  Avg Likes Avg Comments  \n",
       "Content Type                                        \n",
       "Photo            21.512279  21.512279     6.640459  \n",
       "Video            27.839694  27.839694     6.557959  \n",
       "Text              9.887290   9.887290     5.071979  \n",
       "Link              9.804506   9.804506     2.535344  "
      ]
     },
     "execution_count": 32,
     "metadata": {},
     "output_type": "execute_result"
    }
   ],
   "source": [
    "twitter_engagement_summary"
   ]
  },
  {
   "cell_type": "code",
   "execution_count": 33,
   "id": "8655dbea",
   "metadata": {},
   "outputs": [
    {
     "name": "stdout",
     "output_type": "stream",
     "text": [
      "Photo    72.845586\n",
      "Text     11.935749\n",
      "Video    10.352914\n",
      "Link      4.865752\n",
      "Name: Content Type, dtype: float64\n"
     ]
    }
   ],
   "source": [
    "value_counts = twt_new['Content Type'].value_counts()\n",
    "total_count = len(twt_new['Content Type'])\n",
    "percentage_distribution = (value_counts / total_count) * 100\n",
    "\n",
    "# Print the percentage distribution\n",
    "print(percentage_distribution)"
   ]
  },
  {
   "cell_type": "code",
   "execution_count": 35,
   "id": "5d7d79fb",
   "metadata": {},
   "outputs": [
    {
     "data": {
      "text/html": [
       "<div>\n",
       "<style scoped>\n",
       "    .dataframe tbody tr th:only-of-type {\n",
       "        vertical-align: middle;\n",
       "    }\n",
       "\n",
       "    .dataframe tbody tr th {\n",
       "        vertical-align: top;\n",
       "    }\n",
       "\n",
       "    .dataframe thead tr th {\n",
       "        text-align: left;\n",
       "    }\n",
       "\n",
       "    .dataframe thead tr:last-of-type th {\n",
       "        text-align: right;\n",
       "    }\n",
       "</style>\n",
       "<table border=\"1\" class=\"dataframe\">\n",
       "  <thead>\n",
       "    <tr>\n",
       "      <th></th>\n",
       "      <th>Avg Impressions</th>\n",
       "      <th>Avg Organic Impressions</th>\n",
       "      <th>Avg Potential Reach</th>\n",
       "      <th>Avg Engagement Rate (per Impression)</th>\n",
       "      <th>Avg Shares</th>\n",
       "      <th>Avg Engagements</th>\n",
       "      <th>Avg Reactions</th>\n",
       "      <th>Avg Likes</th>\n",
       "      <th>Avg Comments</th>\n",
       "    </tr>\n",
       "    <tr>\n",
       "      <th>Day of week</th>\n",
       "      <th></th>\n",
       "      <th></th>\n",
       "      <th></th>\n",
       "      <th></th>\n",
       "      <th></th>\n",
       "      <th></th>\n",
       "      <th></th>\n",
       "      <th></th>\n",
       "      <th></th>\n",
       "    </tr>\n",
       "  </thead>\n",
       "  <tbody>\n",
       "    <tr>\n",
       "      <th>Wed</th>\n",
       "      <td>3494.213541</td>\n",
       "      <td>3494.213541</td>\n",
       "      <td>281418.591464</td>\n",
       "      <td>3.203091</td>\n",
       "      <td>9.775991</td>\n",
       "      <td>127.129407</td>\n",
       "      <td>20.590152</td>\n",
       "      <td>20.590152</td>\n",
       "      <td>6.500752</td>\n",
       "    </tr>\n",
       "    <tr>\n",
       "      <th>Sun</th>\n",
       "      <td>3319.547134</td>\n",
       "      <td>3319.547134</td>\n",
       "      <td>301556.336360</td>\n",
       "      <td>3.059026</td>\n",
       "      <td>7.252339</td>\n",
       "      <td>121.895302</td>\n",
       "      <td>23.403191</td>\n",
       "      <td>23.403191</td>\n",
       "      <td>8.361813</td>\n",
       "    </tr>\n",
       "    <tr>\n",
       "      <th>Mon</th>\n",
       "      <td>3168.776644</td>\n",
       "      <td>3168.776644</td>\n",
       "      <td>279325.219606</td>\n",
       "      <td>2.900653</td>\n",
       "      <td>9.797449</td>\n",
       "      <td>120.109271</td>\n",
       "      <td>28.877078</td>\n",
       "      <td>28.877078</td>\n",
       "      <td>5.849647</td>\n",
       "    </tr>\n",
       "    <tr>\n",
       "      <th>Thu</th>\n",
       "      <td>3238.075679</td>\n",
       "      <td>3238.075679</td>\n",
       "      <td>275836.116588</td>\n",
       "      <td>2.676655</td>\n",
       "      <td>7.643755</td>\n",
       "      <td>105.615936</td>\n",
       "      <td>18.190779</td>\n",
       "      <td>18.190779</td>\n",
       "      <td>6.556483</td>\n",
       "    </tr>\n",
       "    <tr>\n",
       "      <th>Tue</th>\n",
       "      <td>3066.193847</td>\n",
       "      <td>3066.193847</td>\n",
       "      <td>277175.937679</td>\n",
       "      <td>2.814290</td>\n",
       "      <td>8.078714</td>\n",
       "      <td>104.388915</td>\n",
       "      <td>16.822305</td>\n",
       "      <td>16.822305</td>\n",
       "      <td>6.031847</td>\n",
       "    </tr>\n",
       "    <tr>\n",
       "      <th>Sat</th>\n",
       "      <td>3009.455934</td>\n",
       "      <td>3009.455934</td>\n",
       "      <td>284297.304390</td>\n",
       "      <td>2.936549</td>\n",
       "      <td>7.893897</td>\n",
       "      <td>102.026652</td>\n",
       "      <td>19.062842</td>\n",
       "      <td>19.062842</td>\n",
       "      <td>5.923272</td>\n",
       "    </tr>\n",
       "    <tr>\n",
       "      <th>Fri</th>\n",
       "      <td>3074.084585</td>\n",
       "      <td>3074.084585</td>\n",
       "      <td>276828.809047</td>\n",
       "      <td>2.876650</td>\n",
       "      <td>7.421593</td>\n",
       "      <td>96.886755</td>\n",
       "      <td>17.079623</td>\n",
       "      <td>17.079623</td>\n",
       "      <td>5.575442</td>\n",
       "    </tr>\n",
       "  </tbody>\n",
       "</table>\n",
       "</div>"
      ],
      "text/plain": [
       "            Avg Impressions Avg Organic Impressions Avg Potential Reach  \\\n",
       "Day of week                                                               \n",
       "Wed             3494.213541             3494.213541       281418.591464   \n",
       "Sun             3319.547134             3319.547134       301556.336360   \n",
       "Mon             3168.776644             3168.776644       279325.219606   \n",
       "Thu             3238.075679             3238.075679       275836.116588   \n",
       "Tue             3066.193847             3066.193847       277175.937679   \n",
       "Sat             3009.455934             3009.455934       284297.304390   \n",
       "Fri             3074.084585             3074.084585       276828.809047   \n",
       "\n",
       "            Avg Engagement Rate (per Impression) Avg Shares Avg Engagements  \\\n",
       "Day of week                                                                   \n",
       "Wed                                     3.203091   9.775991      127.129407   \n",
       "Sun                                     3.059026   7.252339      121.895302   \n",
       "Mon                                     2.900653   9.797449      120.109271   \n",
       "Thu                                     2.676655   7.643755      105.615936   \n",
       "Tue                                     2.814290   8.078714      104.388915   \n",
       "Sat                                     2.936549   7.893897      102.026652   \n",
       "Fri                                     2.876650   7.421593       96.886755   \n",
       "\n",
       "            Avg Reactions  Avg Likes Avg Comments  \n",
       "Day of week                                        \n",
       "Wed             20.590152  20.590152     6.500752  \n",
       "Sun             23.403191  23.403191     8.361813  \n",
       "Mon             28.877078  28.877078     5.849647  \n",
       "Thu             18.190779  18.190779     6.556483  \n",
       "Tue             16.822305  16.822305     6.031847  \n",
       "Sat             19.062842  19.062842     5.923272  \n",
       "Fri             17.079623  17.079623     5.575442  "
      ]
     },
     "execution_count": 35,
     "metadata": {},
     "output_type": "execute_result"
    }
   ],
   "source": [
    "twitter_engagement_days = (twt_new.groupby('Day of week').agg({'Impressions':'mean', 'Organic Impressions':'mean',\n",
    "       'Potential Reach':'mean', 'Engagement Rate (per Impression)':'mean',\n",
    "       'Shares':'mean', 'Engagements':'mean', 'Reactions':'mean', 'Likes':'mean',\n",
    "       'Comments':'mean'}).sort_values(by ='Engagements', ascending = False))\n",
    "\n",
    "twitter_engagement_days.columns = [['Avg Impressions', 'Avg Organic Impressions',\n",
    "       'Avg Potential Reach', 'Avg Engagement Rate (per Impression)',\n",
    "       'Avg Shares', 'Avg Engagements', 'Avg Reactions', 'Avg Likes',\n",
    "       'Avg Comments']]\n",
    "\n",
    "twitter_engagement_days"
   ]
  },
  {
   "cell_type": "code",
   "execution_count": 36,
   "id": "d0bd3abd",
   "metadata": {},
   "outputs": [],
   "source": [
    "hourly_engagement = twt_new.groupby('Hour')['Engagement Rate (per Impression)'].mean()\n",
    "daily_engagement = twt_new.groupby('Day of week')['Engagement Rate (per Impression)'].mean()\n"
   ]
  },
  {
   "cell_type": "code",
   "execution_count": 37,
   "id": "2298ddec",
   "metadata": {},
   "outputs": [
    {
     "data": {
      "text/plain": [
       "Text(0, 0.5, 'Average Engagement Rate')"
      ]
     },
     "execution_count": 37,
     "metadata": {},
     "output_type": "execute_result"
    },
    {
     "data": {
      "image/png": "[encoded data removed]",
      "text/plain": [
       "<Figure size 1200x600 with 1 Axes>"
      ]
     },
     "metadata": {},
     "output_type": "display_data"
    }
   ],
   "source": [
    "# Peak hours of the day\n",
    "plt.figure(figsize=(12, 6))\n",
    "plt.subplot(2, 1, 1)\n",
    "hourly_engagement.plot(kind='line', marker='o')\n",
    "plt.title('Average Hourly Engagement Rate')\n",
    "plt.xlabel('Hour of the Day')\n",
    "plt.ylabel('Average Engagement Rate')"
   ]
  },
  {
   "cell_type": "code",
   "execution_count": 38,
   "id": "91ca0f4c",
   "metadata": {},
   "outputs": [
    {
     "data": {
      "image/png": "[encoded data removed]",
      "text/plain": [
       "<Figure size 640x480 with 1 Axes>"
      ]
     },
     "metadata": {},
     "output_type": "display_data"
    }
   ],
   "source": [
    "# Peak days of the week\n",
    "plt.subplot(2, 1, 2)\n",
    "days = ['Monday', 'Tuesday', 'Wednesday', 'Thursday', 'Friday', 'Saturday', 'Sunday']\n",
    "daily_engagement.index = days\n",
    "daily_engagement.plot(kind='line', marker='o')\n",
    "plt.title('Average Daily Engagement Rate')\n",
    "plt.xlabel('Day of the Week')\n",
    "plt.ylabel('Average Engagement Rate')\n",
    "\n",
    "plt.tight_layout()\n",
    "plt.show()"
   ]
  },
  {
   "cell_type": "code",
   "execution_count": 39,
   "id": "00195e24",
   "metadata": {},
   "outputs": [],
   "source": [
    "hourly_Impression = twt_new.groupby('Hour')['Impressions'].mean()\n",
    "daily_Impression = twt_new.groupby('Day of week')['Impressions'].mean()"
   ]
  },
  {
   "cell_type": "code",
   "execution_count": 40,
   "id": "21827b82",
   "metadata": {},
   "outputs": [
    {
     "data": {
      "image/png": "[encoded data removed]",
      "text/plain": [
       "<Figure size 1200x600 with 2 Axes>"
      ]
     },
     "metadata": {},
     "output_type": "display_data"
    }
   ],
   "source": [
    "# Peak hours of the day\n",
    "plt.figure(figsize=(12, 6))\n",
    "plt.subplot(2, 1, 1)\n",
    "hourly_Impression.plot(kind='line', marker='o')\n",
    "plt.title('Average Hourly Impression Rate')\n",
    "plt.xlabel('Hour of the Day')\n",
    "plt.ylabel('Average Impression Rate')\n",
    "\n",
    "# Peak days of the week\n",
    "plt.subplot(2, 1, 2)\n",
    "days = ['Monday', 'Tuesday', 'Wednesday', 'Thursday', 'Friday', 'Saturday', 'Sunday']\n",
    "daily_Impression.index = days\n",
    "daily_Impression.plot(kind='line', marker='o')\n",
    "plt.title('Average Daily Impression Rate')\n",
    "plt.xlabel('Day of the Week')\n",
    "plt.ylabel('Average Impression Rate')\n",
    "\n",
    "plt.tight_layout()\n",
    "plt.show()"
   ]
  },
  {
   "cell_type": "code",
   "execution_count": null,
   "id": "79a291ee",
   "metadata": {},
   "outputs": [],
   "source": []
  }
 ],
 "metadata": {
  "kernelspec": {
   "display_name": "Python 3 (ipykernel)",
   "language": "python",
   "name": "python3"
  },
  "language_info": {
   "codemirror_mode": {
    "name": "ipython",
    "version": 3
   },
   "file_extension": ".py",
   "mimetype": "text/x-python",
   "name": "python",
   "nbconvert_exporter": "python",
   "pygments_lexer": "ipython3",
   "version": "3.10.9"
  }
 },
 "nbformat": 4,
 "nbformat_minor": 5
}
